{
 "cells": [
  {
   "cell_type": "code",
   "execution_count": 78,
   "metadata": {},
   "outputs": [],
   "source": [
    "from pyspark.sql import SparkSession\n",
    "from pyspark.sql.functions import count, countDistinct, sum ,desc,rank\n",
    "from pyspark.sql.window import Window"
   ]
  },
  {
   "cell_type": "code",
   "execution_count": 43,
   "metadata": {},
   "outputs": [],
   "source": [
    "spark = SparkSession.builder.appName('Practise').getOrCreate()\n"
   ]
  },
  {
   "cell_type": "code",
   "execution_count": null,
   "metadata": {},
   "outputs": [],
   "source": [
    "races_results_df = spark.read.parquet('/Users/mac/Documents/dataengineer/f1db_csv/race_results_full_df.parquet',header=True,inferSchema=True)\n",
    "races_results_df = races_results_df.filter(races_results_df.race_year == 2020)\n",
    "races_results_df.show()"
   ]
  },
  {
   "cell_type": "code",
   "execution_count": 19,
   "metadata": {},
   "outputs": [],
   "source": [
    "# races_df.select(sum('points')).show()\n",
    "final_df =races_results_df.groupBy('driver_name').agg(sum('points'),countDistinct('race_name')).withColumnRenamed('sum(points)','points')\n",
    "\n"
   ]
  },
  {
   "cell_type": "code",
   "execution_count": null,
   "metadata": {},
   "outputs": [],
   "source": [
    "final_df.orderBy(final_df.points.desc()).show()"
   ]
  },
  {
   "cell_type": "markdown",
   "metadata": {},
   "source": [
    "Window Functions"
   ]
  },
  {
   "cell_type": "code",
   "execution_count": null,
   "metadata": {},
   "outputs": [],
   "source": [
    "demo_df = spark.read.parquet('/Users/mac/Documents/dataengineer/f1db_csv/race_results_full_df.parquet',header=True,inferSchema=True)\n",
    "demo_df = races_results_df.filter('race_year in(2019,2020)')"
   ]
  },
  {
   "cell_type": "code",
   "execution_count": 94,
   "metadata": {},
   "outputs": [],
   "source": [
    "demo_df = demo_df.groupBy('race_year','driver_name').agg(sum('points'),countDistinct('race_name').alias('number_of_race'))\\\n",
    "    .withColumnRenamed('sum(points)','toltal_points')\n",
    "driverRankSpec = Window.partitionBy('race_year').orderBy(desc('toltal_points'))"
   ]
  },
  {
   "cell_type": "code",
   "execution_count": 95,
   "metadata": {},
   "outputs": [
    {
     "name": "stdout",
     "output_type": "stream",
     "text": [
      "+---------+------------------+-------------+--------------+----+\n",
      "|race_year|       driver_name|toltal_points|number_of_race|rank|\n",
      "+---------+------------------+-------------+--------------+----+\n",
      "|     2019|    Lewis Hamilton|        413.0|            21|   1|\n",
      "|     2019|   Valtteri Bottas|        326.0|            21|   2|\n",
      "|     2019|    Max Verstappen|        278.0|            21|   3|\n",
      "|     2019|   Charles Leclerc|        264.0|            21|   4|\n",
      "|     2019|  Sebastian Vettel|        240.0|            21|   5|\n",
      "|     2019|      Carlos Sainz|         96.0|            21|   6|\n",
      "|     2019|      Pierre Gasly|         95.0|            21|   7|\n",
      "|     2019|   Alexander Albon|         92.0|            21|   8|\n",
      "|     2019|  Daniel Ricciardo|         54.0|            21|   9|\n",
      "|     2019|      Sergio Pérez|         52.0|            21|  10|\n",
      "|     2019|      Lando Norris|         49.0|            21|  11|\n",
      "|     2019|    Kimi Räikkönen|         43.0|            21|  12|\n",
      "|     2019|   Nico Hülkenberg|         37.0|            21|  13|\n",
      "|     2019|      Daniil Kvyat|         37.0|            21|  13|\n",
      "|     2019|      Lance Stroll|         21.0|            21|  15|\n",
      "|     2019|   Kevin Magnussen|         20.0|            21|  16|\n",
      "|     2019|Antonio Giovinazzi|         14.0|            21|  17|\n",
      "|     2019|   Romain Grosjean|          8.0|            21|  18|\n",
      "|     2019|     Robert Kubica|          1.0|            21|  19|\n",
      "|     2019|    George Russell|          0.0|            21|  20|\n",
      "+---------+------------------+-------------+--------------+----+\n",
      "only showing top 20 rows\n",
      "\n"
     ]
    }
   ],
   "source": [
    "demo_df.withColumn('rank',rank().over(driverRankSpec)).show()"
   ]
  }
 ],
 "metadata": {
  "kernelspec": {
   "display_name": "Python 3.9.13 ('base')",
   "language": "python",
   "name": "python3"
  },
  "language_info": {
   "codemirror_mode": {
    "name": "ipython",
    "version": 3
   },
   "file_extension": ".py",
   "mimetype": "text/x-python",
   "name": "python",
   "nbconvert_exporter": "python",
   "pygments_lexer": "ipython3",
   "version": "3.9.13"
  },
  "orig_nbformat": 4,
  "vscode": {
   "interpreter": {
    "hash": "b5ddce8d2483ae4d4309bb15bbfc33949058ac938866cadf6f2d53466f7374a2"
   }
  }
 },
 "nbformat": 4,
 "nbformat_minor": 2
}

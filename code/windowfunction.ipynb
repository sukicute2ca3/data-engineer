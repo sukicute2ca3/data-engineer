{
 "cells": [
  {
   "cell_type": "code",
   "execution_count": 42,
   "metadata": {},
   "outputs": [],
   "source": [
    "from pyspark.sql import SparkSession\n",
    "from pyspark.sql.functions import count, countDistinct, sum ,desc,rank,when,col,asc\n",
    "from pyspark.sql.window import Window"
   ]
  },
  {
   "cell_type": "code",
   "execution_count": 43,
   "metadata": {},
   "outputs": [],
   "source": [
    "spark = SparkSession.builder.appName('Practise').getOrCreate()\n"
   ]
  },
  {
   "cell_type": "code",
   "execution_count": null,
   "metadata": {},
   "outputs": [],
   "source": [
    "races_results_df = spark.read.parquet('/Users/mac/Documents/dataengineer/f1db_csv/full_race_results_df.parquet',header=True,inferSchema=True)\n",
    "# races_results_df = races_results_df.filter(races_results_df.race_year == 2020)\n",
    "races_results_df"
   ]
  },
  {
   "cell_type": "code",
   "execution_count": 45,
   "metadata": {},
   "outputs": [],
   "source": [
    "driver_standings_df= races_results_df.groupBy('race_year','driver_name','driver_nationality','team')\\\n",
    "    .agg(sum('points').alias('total_points'),\n",
    "         count(when(col('position')==1,True)).alias('win'))"
   ]
  },
  {
   "cell_type": "code",
   "execution_count": null,
   "metadata": {},
   "outputs": [],
   "source": [
    "driver_standings_df.filter('race_year == 2020').orderBy(driver_standings_df.total_points.desc()\n"
   ]
  },
  {
   "cell_type": "code",
   "execution_count": null,
   "metadata": {},
   "outputs": [],
   "source": [
    "driver_standings_df.filter('race_year == 2020').orderBy(driver_standings_df.total_points.desc())\n",
    "driverRankSpec = Window.partitionBy('race_year').orderBy(desc('total_points'),desc('win'))\n",
    "final_df= driver_standings_df.withColumn('rank',rank().over(driverRankSpec))\n",
    "final_df.filter('race_year==2020').show()\n"
   ]
  }
 ],
 "metadata": {
  "kernelspec": {
   "display_name": "Python 3.9.13 ('base')",
   "language": "python",
   "name": "python3"
  },
  "language_info": {
   "codemirror_mode": {
    "name": "ipython",
    "version": 3
   },
   "file_extension": ".py",
   "mimetype": "text/x-python",
   "name": "python",
   "nbconvert_exporter": "python",
   "pygments_lexer": "ipython3",
   "version": "3.9.13"
  },
  "orig_nbformat": 4,
  "vscode": {
   "interpreter": {
    "hash": "b5ddce8d2483ae4d4309bb15bbfc33949058ac938866cadf6f2d53466f7374a2"
   }
  }
 },
 "nbformat": 4,
 "nbformat_minor": 2
}

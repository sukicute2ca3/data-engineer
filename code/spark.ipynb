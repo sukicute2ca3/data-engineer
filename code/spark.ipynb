{
 "cells": [
  {
   "cell_type": "code",
   "execution_count": null,
   "metadata": {},
   "outputs": [],
   "source": [
    "from pyspark.sql import SparkSession\n",
    "spark = SparkSession.builder.appName('Practise').getOrCreate()\n",
    "constructors_schema = \"constructorId INT, constructorRef STRING, name STRING, nationality STRING, url STRING\"\n",
    "constructor_df = spark.read.schema(constructors_schema).option('multiLine', True).json(\n",
    "    \"/Users/mac/Documents/dataengineer/f1db_csv/constructors.json\")\n",
    "constructor_df = constructor_df.withColumnRenamed(\n",
    "    'constructorId', 'constructor_Id')\n",
    "constructor_df = constructor_df.drop('url')\n",
    "print(constructor_df.show())\n"
   ]
  },
  {
   "cell_type": "code",
   "execution_count": null,
   "metadata": {},
   "outputs": [],
   "source": []
  }
 ],
 "metadata": {
  "kernelspec": {
   "display_name": "Python 3.9.13 ('base')",
   "language": "python",
   "name": "python3"
  },
  "language_info": {
   "codemirror_mode": {
    "name": "ipython",
    "version": 3
   },
   "file_extension": ".py",
   "mimetype": "text/x-python",
   "name": "python",
   "nbconvert_exporter": "python",
   "pygments_lexer": "ipython3",
   "version": "3.9.13"
  },
  "orig_nbformat": 4,
  "vscode": {
   "interpreter": {
    "hash": "b5ddce8d2483ae4d4309bb15bbfc33949058ac938866cadf6f2d53466f7374a2"
   }
  }
 },
 "nbformat": 4,
 "nbformat_minor": 2
}

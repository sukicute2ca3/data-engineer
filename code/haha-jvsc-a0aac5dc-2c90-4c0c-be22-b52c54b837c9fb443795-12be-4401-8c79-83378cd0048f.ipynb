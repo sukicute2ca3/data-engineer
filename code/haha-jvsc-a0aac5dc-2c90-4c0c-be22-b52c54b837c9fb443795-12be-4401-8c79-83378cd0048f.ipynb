{
 "cells": [
  {
   "cell_type": "code",
   "execution_count": 1,
   "metadata": {},
   "outputs": [
    {
     "name": "stdout",
     "output_type": "stream",
     "text": [
      "22/08/09 23:08:32 WARN Utils: Your hostname, MacBook-Pro-cua-mac.local resolves to a loopback address: 127.0.0.1; using 192.168.0.101 instead (on interface en0)\n",
      "22/08/09 23:08:32 WARN Utils: Set SPARK_LOCAL_IP if you need to bind to another address\n"
     ]
    },
    {
     "name": "stderr",
     "output_type": "stream",
     "text": [
      "Setting default log level to \"WARN\".\n",
      "To adjust logging level use sc.setLogLevel(newLevel). For SparkR, use setLogLevel(newLevel).\n"
     ]
    },
    {
     "name": "stdout",
     "output_type": "stream",
     "text": [
      "22/08/09 23:08:32 WARN NativeCodeLoader: Unable to load native-hadoop library for your platform... using builtin-java classes where applicable\n",
      "22/08/09 23:08:32 WARN Utils: Service 'SparkUI' could not bind on port 4040. Attempting port 4041.\n",
      "22/08/09 23:08:32 WARN Utils: Service 'SparkUI' could not bind on port 4041. Attempting port 4042.\n"
     ]
    }
   ],
   "source": [
    "from pyspark.sql import SparkSession\n",
    "spark = SparkSession.builder.appName('Practise').getOrCreate()\n"
   ]
  },
  {
   "cell_type": "code",
   "execution_count": 4,
   "id": "584d3899",
   "metadata": {},
   "outputs": [
    {
     "name": "stdout",
     "output_type": "stream",
     "text": [
      "+---------+--------------------+-------------------+----------------+------------------+-------------+------------------+------------+----+----------+-----------+------+--------------------+\n",
      "|race_year|           race_name|          race_date|circuit_location|       driver_name|driver_number|driver_nationality|        team|grid|fastestLap|  race_time|points|        created_date|\n",
      "+---------+--------------------+-------------------+----------------+------------------+-------------+------------------+------------+----+----------+-----------+------+--------------------+\n",
      "|     2020|Abu Dhabi Grand Prix|2020-12-13 13:10:00|       Abu Dhabi|    Max Verstappen|           33|             Dutch|    Red Bull|   1|        14|1:36:28.645|  25.0|2022-08-09 23:03:...|\n",
      "|     2020|Abu Dhabi Grand Prix|2020-12-13 13:10:00|       Abu Dhabi|   Valtteri Bottas|           77|           Finnish|    Mercedes|   2|        40|    +15.976|  18.0|2022-08-09 23:03:...|\n",
      "|     2020|Abu Dhabi Grand Prix|2020-12-13 13:10:00|       Abu Dhabi|    Lewis Hamilton|           44|           British|    Mercedes|   3|        37|    +18.415|  15.0|2022-08-09 23:03:...|\n",
      "|     2020|Abu Dhabi Grand Prix|2020-12-13 13:10:00|       Abu Dhabi|   Alexander Albon|           23|              Thai|    Red Bull|   5|        42|    +19.987|  12.0|2022-08-09 23:03:...|\n",
      "|     2020|Abu Dhabi Grand Prix|2020-12-13 13:10:00|       Abu Dhabi|      Lando Norris|            4|           British|     McLaren|   4|        53|  +1:00.729|  10.0|2022-08-09 23:03:...|\n",
      "|     2020|Abu Dhabi Grand Prix|2020-12-13 13:10:00|       Abu Dhabi|      Carlos Sainz|           55|           Spanish|     McLaren|   6|        48|  +1:05.662|   8.0|2022-08-09 23:03:...|\n",
      "|     2020|Abu Dhabi Grand Prix|2020-12-13 13:10:00|       Abu Dhabi|  Daniel Ricciardo|            3|        Australian|     Renault|  11|        55|  +1:13.748|   7.0|2022-08-09 23:03:...|\n",
      "|     2020|Abu Dhabi Grand Prix|2020-12-13 13:10:00|       Abu Dhabi|      Pierre Gasly|           10|            French|  AlphaTauri|   9|        53|  +1:29.718|   4.0|2022-08-09 23:03:...|\n",
      "|     2020|Abu Dhabi Grand Prix|2020-12-13 13:10:00|       Abu Dhabi|      Esteban Ocon|           31|            French|     Renault|  10|        47|  +1:41.069|   2.0|2022-08-09 23:03:...|\n",
      "|     2020|Abu Dhabi Grand Prix|2020-12-13 13:10:00|       Abu Dhabi|      Lance Stroll|           18|          Canadian|Racing Point|   8|        41|  +1:42.738|   1.0|2022-08-09 23:03:...|\n",
      "|     2020|Abu Dhabi Grand Prix|2020-12-13 13:10:00|       Abu Dhabi|      Sergio Pérez|           11|           Mexican|Racing Point|  19|         6|         \\N|   0.0|2022-08-09 23:03:...|\n",
      "|     2020|Abu Dhabi Grand Prix|2020-12-13 13:10:00|       Abu Dhabi| Pietro Fittipaldi|           51|         Brazilian|Haas F1 Team|  17|        50|         \\N|   0.0|2022-08-09 23:03:...|\n",
      "|     2020|Abu Dhabi Grand Prix|2020-12-13 13:10:00|       Abu Dhabi|   Kevin Magnussen|           20|            Danish|Haas F1 Team|  20|        50|         \\N|   0.0|2022-08-09 23:03:...|\n",
      "|     2020|Abu Dhabi Grand Prix|2020-12-13 13:10:00|       Abu Dhabi|   Nicholas Latifi|            6|          Canadian|    Williams|  18|        49|         \\N|   0.0|2022-08-09 23:03:...|\n",
      "|     2020|Abu Dhabi Grand Prix|2020-12-13 13:10:00|       Abu Dhabi|Antonio Giovinazzi|           99|           Italian|  Alfa Romeo|  14|        29|         \\N|   0.0|2022-08-09 23:03:...|\n",
      "|     2020|Abu Dhabi Grand Prix|2020-12-13 13:10:00|       Abu Dhabi|    George Russell|           63|           British|    Williams|  16|        54|         \\N|   0.0|2022-08-09 23:03:...|\n",
      "|     2020|Abu Dhabi Grand Prix|2020-12-13 13:10:00|       Abu Dhabi|  Sebastian Vettel|            5|            German|     Ferrari|  13|        37|         \\N|   0.0|2022-08-09 23:03:...|\n",
      "|     2020|Abu Dhabi Grand Prix|2020-12-13 13:10:00|       Abu Dhabi|   Charles Leclerc|           16|        Monegasque|     Ferrari|  12|        24|         \\N|   0.0|2022-08-09 23:03:...|\n",
      "|     2020|Abu Dhabi Grand Prix|2020-12-13 13:10:00|       Abu Dhabi|    Kimi Räikkönen|            7|           Finnish|  Alfa Romeo|  15|        53|         \\N|   0.0|2022-08-09 23:03:...|\n",
      "|     2020|Abu Dhabi Grand Prix|2020-12-13 13:10:00|       Abu Dhabi|      Daniil Kvyat|           26|           Russian|  AlphaTauri|   7|        47|         \\N|   0.0|2022-08-09 23:03:...|\n",
      "+---------+--------------------+-------------------+----------------+------------------+-------------+------------------+------------+----+----------+-----------+------+--------------------+\n",
      "\n"
     ]
    }
   ],
   "source": []
  }
 ],
 "metadata": {
  "kernelspec": {
   "display_name": "Python 3.9.13 ('base')",
   "language": "python",
   "name": "python3"
  },
  "language_info": {
   "codemirror_mode": {
    "name": "ipython",
    "version": 3
   },
   "file_extension": ".py",
   "mimetype": "text/x-python",
   "name": "python",
   "nbconvert_exporter": "python",
   "pygments_lexer": "ipython3",
   "version": "3.9.13"
  },
  "vscode": {
   "interpreter": {
    "hash": "b5ddce8d2483ae4d4309bb15bbfc33949058ac938866cadf6f2d53466f7374a2"
   }
  }
 },
 "nbformat": 4,
 "nbformat_minor": 5
}

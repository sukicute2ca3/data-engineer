{
 "cells": [
  {
   "cell_type": "code",
   "execution_count": 97,
   "metadata": {},
   "outputs": [],
   "source": [
    "import pyspark\n",
    "from pyspark.sql import SparkSession\n"
   ]
  },
  {
   "cell_type": "code",
   "execution_count": 98,
   "metadata": {},
   "outputs": [],
   "source": [
    "spark = SparkSession.builder.appName('Practise').getOrCreate()"
   ]
  },
  {
   "cell_type": "code",
   "execution_count": 99,
   "metadata": {},
   "outputs": [
    {
     "name": "stdout",
     "output_type": "stream",
     "text": [
      "+---+--------------+--------------------+------------+---------+--------+---------+---+--------------------+\n",
      "| id|    circuitRef|                name|    location|  country|     lat|      lng|alt|                 url|\n",
      "+---+--------------+--------------------+------------+---------+--------+---------+---+--------------------+\n",
      "|  1|   albert_park|Albert Park Grand...|   Melbourne|Australia|-37.8497|  144.968| 10|http://en.wikiped...|\n",
      "|  2|        sepang|Sepang Internatio...|Kuala Lumpur| Malaysia| 2.76083|  101.738| 18|http://en.wikiped...|\n",
      "|  3|       bahrain|Bahrain Internati...|      Sakhir|  Bahrain| 26.0325|  50.5106|  7|http://en.wikiped...|\n",
      "|  4|     catalunya|Circuit de Barcel...|    Montmeló|    Spain|   41.57|  2.26111|109|http://en.wikiped...|\n",
      "|  5|      istanbul|       Istanbul Park|    Istanbul|   Turkey| 40.9517|   29.405|130|http://en.wikiped...|\n",
      "|  6|        monaco|   Circuit de Monaco| Monte-Carlo|   Monaco| 43.7347|  7.42056|  7|http://en.wikiped...|\n",
      "|  7|    villeneuve|Circuit Gilles Vi...|    Montreal|   Canada|    45.5| -73.5228| 13|http://en.wikiped...|\n",
      "|  8|   magny_cours|Circuit de Nevers...| Magny Cours|   France| 46.8642|  3.16361|228|http://en.wikiped...|\n",
      "|  9|   silverstone| Silverstone Circuit| Silverstone|       UK| 52.0786| -1.01694|153|http://en.wikiped...|\n",
      "| 10|hockenheimring|      Hockenheimring|  Hockenheim|  Germany| 49.3278|  8.56583|103|http://en.wikiped...|\n",
      "| 11|   hungaroring|         Hungaroring|    Budapest|  Hungary| 47.5789|  19.2486|264|http://en.wikiped...|\n",
      "| 12|      valencia|Valencia Street C...|    Valencia|    Spain| 39.4589|-0.331667|  4|http://en.wikiped...|\n",
      "| 13|           spa|Circuit de Spa-Fr...|         Spa|  Belgium| 50.4372|  5.97139|401|http://en.wikiped...|\n",
      "| 14|         monza|Autodromo Naziona...|       Monza|    Italy| 45.6156|  9.28111|162|http://en.wikiped...|\n",
      "| 15|    marina_bay|Marina Bay Street...|  Marina Bay|Singapore|  1.2914|  103.864| 18|http://en.wikiped...|\n",
      "| 16|          fuji|       Fuji Speedway|       Oyama|    Japan| 35.3717|  138.927|583|http://en.wikiped...|\n",
      "| 17|      shanghai|Shanghai Internat...|    Shanghai|    China| 31.3389|   121.22|  5|http://en.wikiped...|\n",
      "| 18|    interlagos|Autódromo José Ca...|   São Paulo|   Brazil|-23.7036| -46.6997|785|http://en.wikiped...|\n",
      "| 19|  indianapolis|Indianapolis Moto...|Indianapolis|      USA|  39.795| -86.2347|223|http://en.wikiped...|\n",
      "| 20|   nurburgring|         Nürburgring|     Nürburg|  Germany| 50.3356|   6.9475|578|http://en.wikiped...|\n",
      "+---+--------------+--------------------+------------+---------+--------+---------+---+--------------------+\n",
      "only showing top 20 rows\n",
      "\n"
     ]
    }
   ],
   "source": [
    "df = spark.read.csv('/Users/mac/Documents/dataengineer/f1db_csv/circuits.csv',header = True ,inferSchema = True)\n",
    "df= df.withColumnRenamed('circuitId','id')\n",
    "df.show()"
   ]
  },
  {
   "cell_type": "code",
   "execution_count": 100,
   "metadata": {},
   "outputs": [
    {
     "name": "stdout",
     "output_type": "stream",
     "text": [
      "+--------------------+---+-------------+------+------+\n",
      "|constructorResultsId| id|constructorId|points|status|\n",
      "+--------------------+---+-------------+------+------+\n",
      "|                   1| 18|            1|  14.0|    \\N|\n",
      "|                   2| 18|            2|   8.0|    \\N|\n",
      "|                   3| 18|            3|   9.0|    \\N|\n",
      "|                   4| 18|            4|   5.0|    \\N|\n",
      "|                   5| 18|            5|   2.0|    \\N|\n",
      "|                   6| 18|            6|   1.0|    \\N|\n",
      "|                   7| 18|            7|   0.0|    \\N|\n",
      "|                   8| 18|            8|   0.0|    \\N|\n",
      "|                   9| 18|            9|   0.0|    \\N|\n",
      "|                  10| 18|           10|   0.0|    \\N|\n",
      "|                  11| 18|           11|   0.0|    \\N|\n",
      "|                  12| 19|            6|  10.0|    \\N|\n",
      "|                  13| 19|            2|  11.0|    \\N|\n",
      "|                  14| 19|            1|  10.0|    \\N|\n",
      "|                  15| 19|            7|   5.0|    \\N|\n",
      "|                  16| 19|            9|   2.0|    \\N|\n",
      "|                  17| 19|            4|   1.0|    \\N|\n",
      "|                  18| 19|           11|   0.0|    \\N|\n",
      "|                  19| 19|           10|   0.0|    \\N|\n",
      "|                  20| 19|            3|   0.0|    \\N|\n",
      "+--------------------+---+-------------+------+------+\n",
      "only showing top 20 rows\n",
      "\n"
     ]
    }
   ],
   "source": [
    "df1 = spark.read.csv('/Users/mac/Documents/dataengineer/f1db_csv/constructor_results.csv',header = True ,inferSchema = True)\n",
    "df1 = df1.withColumnRenamed('raceId','id')\n",
    "df1.show()"
   ]
  },
  {
   "cell_type": "code",
   "execution_count": 101,
   "metadata": {},
   "outputs": [
    {
     "name": "stdout",
     "output_type": "stream",
     "text": [
      "+---+-----------+--------------------+------+------+\n",
      "| id| circuitRef|                name|points|status|\n",
      "+---+-----------+--------------------+------+------+\n",
      "|  3|    bahrain|Bahrain Internati...|  66.0|    \\N|\n",
      "|  9|silverstone| Silverstone Circuit|  58.0|    \\N|\n",
      "|  1|albert_park|Albert Park Grand...|  45.0|    \\N|\n",
      "|  6|     monaco|   Circuit de Monaco|  44.0|    \\N|\n",
      "|  9|silverstone| Silverstone Circuit|  44.0|    \\N|\n",
      "|  9|silverstone| Silverstone Circuit|  44.0|    \\N|\n",
      "|  6|     monaco|   Circuit de Monaco|  43.0|    \\N|\n",
      "|  9|silverstone| Silverstone Circuit|  43.0|    \\N|\n",
      "|  1|albert_park|Albert Park Grand...|  43.0|    \\N|\n",
      "|  1|albert_park|Albert Park Grand...|  43.0|    \\N|\n",
      "|  9|silverstone| Silverstone Circuit|  43.0|    \\N|\n",
      "|  6|     monaco|   Circuit de Monaco|  43.0|    \\N|\n",
      "|  9|silverstone| Silverstone Circuit|  43.0|    \\N|\n",
      "|  9|silverstone| Silverstone Circuit|  43.0|    \\N|\n",
      "|  9|silverstone| Silverstone Circuit|  43.0|    \\N|\n",
      "|  9|silverstone| Silverstone Circuit|  43.0|    \\N|\n",
      "|  1|albert_park|Albert Park Grand...|  43.0|    \\N|\n",
      "|  9|silverstone| Silverstone Circuit|  43.0|    \\N|\n",
      "|  9|silverstone| Silverstone Circuit|  43.0|    \\N|\n",
      "|  9|silverstone| Silverstone Circuit|  43.0|    \\N|\n",
      "+---+-----------+--------------------+------+------+\n",
      "only showing top 20 rows\n",
      "\n"
     ]
    }
   ],
   "source": [
    "join_df = df.join(df1,df.id == df1.constructorId,'inner')\\\n",
    "    .select(df.id,df.circuitRef,df.name,df1.points,df1.status)\n",
    "join_df = join_df.orderBy(join_df.points.desc())\n",
    "# join_df = join_df.filter(join_df.name == 'Circuit de Monaco')\n",
    "join_df.show()"
   ]
  },
  {
   "cell_type": "code",
   "execution_count": 110,
   "metadata": {},
   "outputs": [
    {
     "ename": "AnalysisException",
     "evalue": "Table or view not found: name1.demo; line 1 pos 14;\n'Project [*]\n+- 'UnresolvedRelation [name1, demo], [], false\n",
     "output_type": "error",
     "traceback": [
      "\u001b[0;31m---------------------------------------------------------------------------\u001b[0m",
      "\u001b[0;31mAnalysisException\u001b[0m                         Traceback (most recent call last)",
      "\u001b[1;32m/Users/mac/Documents/dataengineer/code/hehe.ipynb Cell 6\u001b[0m in \u001b[0;36m<cell line: 2>\u001b[0;34m()\u001b[0m\n\u001b[1;32m      <a href='vscode-notebook-cell:/Users/mac/Documents/dataengineer/code/hehe.ipynb#X13sZmlsZQ%3D%3D?line=0'>1</a>\u001b[0m a \u001b[39m=\u001b[39m spark\u001b[39m.\u001b[39msql(\u001b[39m'\u001b[39m\u001b[39mCREATE DATABASE if not EXISTS name1\u001b[39m\u001b[39m'\u001b[39m)\n\u001b[0;32m----> <a href='vscode-notebook-cell:/Users/mac/Documents/dataengineer/code/hehe.ipynb#X13sZmlsZQ%3D%3D?line=1'>2</a>\u001b[0m b \u001b[39m=\u001b[39mspark\u001b[39m.\u001b[39;49msql(\u001b[39m'\u001b[39;49m\u001b[39mSELECT * FROM name1.demo\u001b[39;49m\u001b[39m'\u001b[39;49m)\n\u001b[1;32m      <a href='vscode-notebook-cell:/Users/mac/Documents/dataengineer/code/hehe.ipynb#X13sZmlsZQ%3D%3D?line=2'>3</a>\u001b[0m b\u001b[39m.\u001b[39mshow()\n",
      "File \u001b[0;32m~/micromamba/lib/python3.9/site-packages/pyspark/sql/session.py:1034\u001b[0m, in \u001b[0;36mSparkSession.sql\u001b[0;34m(self, sqlQuery, **kwargs)\u001b[0m\n\u001b[1;32m   1032\u001b[0m     sqlQuery \u001b[39m=\u001b[39m formatter\u001b[39m.\u001b[39mformat(sqlQuery, \u001b[39m*\u001b[39m\u001b[39m*\u001b[39mkwargs)\n\u001b[1;32m   1033\u001b[0m \u001b[39mtry\u001b[39;00m:\n\u001b[0;32m-> 1034\u001b[0m     \u001b[39mreturn\u001b[39;00m DataFrame(\u001b[39mself\u001b[39;49m\u001b[39m.\u001b[39;49m_jsparkSession\u001b[39m.\u001b[39;49msql(sqlQuery), \u001b[39mself\u001b[39m)\n\u001b[1;32m   1035\u001b[0m \u001b[39mfinally\u001b[39;00m:\n\u001b[1;32m   1036\u001b[0m     \u001b[39mif\u001b[39;00m \u001b[39mlen\u001b[39m(kwargs) \u001b[39m>\u001b[39m \u001b[39m0\u001b[39m:\n",
      "File \u001b[0;32m~/micromamba/lib/python3.9/site-packages/py4j/java_gateway.py:1321\u001b[0m, in \u001b[0;36mJavaMember.__call__\u001b[0;34m(self, *args)\u001b[0m\n\u001b[1;32m   1315\u001b[0m command \u001b[39m=\u001b[39m proto\u001b[39m.\u001b[39mCALL_COMMAND_NAME \u001b[39m+\u001b[39m\\\n\u001b[1;32m   1316\u001b[0m     \u001b[39mself\u001b[39m\u001b[39m.\u001b[39mcommand_header \u001b[39m+\u001b[39m\\\n\u001b[1;32m   1317\u001b[0m     args_command \u001b[39m+\u001b[39m\\\n\u001b[1;32m   1318\u001b[0m     proto\u001b[39m.\u001b[39mEND_COMMAND_PART\n\u001b[1;32m   1320\u001b[0m answer \u001b[39m=\u001b[39m \u001b[39mself\u001b[39m\u001b[39m.\u001b[39mgateway_client\u001b[39m.\u001b[39msend_command(command)\n\u001b[0;32m-> 1321\u001b[0m return_value \u001b[39m=\u001b[39m get_return_value(\n\u001b[1;32m   1322\u001b[0m     answer, \u001b[39mself\u001b[39;49m\u001b[39m.\u001b[39;49mgateway_client, \u001b[39mself\u001b[39;49m\u001b[39m.\u001b[39;49mtarget_id, \u001b[39mself\u001b[39;49m\u001b[39m.\u001b[39;49mname)\n\u001b[1;32m   1324\u001b[0m \u001b[39mfor\u001b[39;00m temp_arg \u001b[39min\u001b[39;00m temp_args:\n\u001b[1;32m   1325\u001b[0m     temp_arg\u001b[39m.\u001b[39m_detach()\n",
      "File \u001b[0;32m~/micromamba/lib/python3.9/site-packages/pyspark/sql/utils.py:196\u001b[0m, in \u001b[0;36mcapture_sql_exception.<locals>.deco\u001b[0;34m(*a, **kw)\u001b[0m\n\u001b[1;32m    192\u001b[0m converted \u001b[39m=\u001b[39m convert_exception(e\u001b[39m.\u001b[39mjava_exception)\n\u001b[1;32m    193\u001b[0m \u001b[39mif\u001b[39;00m \u001b[39mnot\u001b[39;00m \u001b[39misinstance\u001b[39m(converted, UnknownException):\n\u001b[1;32m    194\u001b[0m     \u001b[39m# Hide where the exception came from that shows a non-Pythonic\u001b[39;00m\n\u001b[1;32m    195\u001b[0m     \u001b[39m# JVM exception message.\u001b[39;00m\n\u001b[0;32m--> 196\u001b[0m     \u001b[39mraise\u001b[39;00m converted \u001b[39mfrom\u001b[39;00m \u001b[39mNone\u001b[39m\n\u001b[1;32m    197\u001b[0m \u001b[39melse\u001b[39;00m:\n\u001b[1;32m    198\u001b[0m     \u001b[39mraise\u001b[39;00m\n",
      "\u001b[0;31mAnalysisException\u001b[0m: Table or view not found: name1.demo; line 1 pos 14;\n'Project [*]\n+- 'UnresolvedRelation [name1, demo], [], false\n"
     ]
    }
   ],
   "source": [
    "a = spark.sql('CREATE DATABASE if not EXISTS name1')\n",
    "b =spark.sql('SELECT * FROM name1.demo')\n",
    "b.show()"
   ]
  }
 ],
 "metadata": {
  "kernelspec": {
   "display_name": "Python 3.9.13 ('base')",
   "language": "python",
   "name": "python3"
  },
  "language_info": {
   "codemirror_mode": {
    "name": "ipython",
    "version": 3
   },
   "file_extension": ".py",
   "mimetype": "text/x-python",
   "name": "python",
   "nbconvert_exporter": "python",
   "pygments_lexer": "ipython3",
   "version": "3.9.13"
  },
  "orig_nbformat": 4,
  "vscode": {
   "interpreter": {
    "hash": "b5ddce8d2483ae4d4309bb15bbfc33949058ac938866cadf6f2d53466f7374a2"
   }
  }
 },
 "nbformat": 4,
 "nbformat_minor": 2
}

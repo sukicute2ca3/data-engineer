{
 "cells": [
  {
   "cell_type": "code",
   "execution_count": 2,
   "metadata": {},
   "outputs": [
    {
     "name": "stdout",
     "output_type": "stream",
     "text": [
      "22/08/19 08:59:42 WARN SparkContext: Another SparkContext is being constructed (or threw an exception in its constructor). This may indicate an error, since only one SparkContext should be running in this JVM (see SPARK-2243). The other SparkContext was created at:\n",
      "org.apache.spark.api.java.JavaSparkContext.<init>(JavaSparkContext.scala:58)\n",
      "java.base/jdk.internal.reflect.NativeConstructorAccessorImpl.newInstance0(Native Method)\n",
      "java.base/jdk.internal.reflect.NativeConstructorAccessorImpl.newInstance(NativeConstructorAccessorImpl.java:77)\n",
      "java.base/jdk.internal.reflect.DelegatingConstructorAccessorImpl.newInstance(DelegatingConstructorAccessorImpl.java:45)\n",
      "java.base/java.lang.reflect.Constructor.newInstanceWithCaller(Constructor.java:499)\n",
      "java.base/java.lang.reflect.Constructor.newInstance(Constructor.java:480)\n",
      "py4j.reflection.MethodInvoker.invoke(MethodInvoker.java:247)\n",
      "py4j.reflection.ReflectionEngine.invoke(ReflectionEngine.java:357)\n",
      "py4j.Gateway.invoke(Gateway.java:238)\n",
      "py4j.commands.ConstructorCommand.invokeConstructor(ConstructorCommand.java:80)\n",
      "py4j.commands.ConstructorCommand.execute(ConstructorCommand.java:69)\n",
      "py4j.ClientServerConnection.waitForCommands(ClientServerConnection.java:182)\n",
      "py4j.ClientServerConnection.run(ClientServerConnection.java:106)\n",
      "java.base/java.lang.Thread.run(Thread.java:833)\n",
      "22/08/19 08:59:42 WARN Utils: Service 'SparkUI' could not bind on port 4040. Attempting port 4041.\n"
     ]
    }
   ],
   "source": [
    "from pyspark.sql import SparkSession\n",
    "spark = SparkSession.builder.appName('Practise').getOrCreate()\n"
   ]
  },
  {
   "cell_type": "code",
   "execution_count": 3,
   "id": "0994013a",
   "metadata": {},
   "outputs": [
    {
     "name": "stderr",
     "output_type": "stream",
     "text": [
      "                                                                                \r"
     ]
    }
   ],
   "source": [
    "race_results_df = spark.read.parquet('/Users/mac/Documents/dataengineer/f1db_csv/full_race_results_df.parquet')"
   ]
  },
  {
   "cell_type": "code",
   "execution_count": 4,
   "id": "55cadbdf",
   "metadata": {},
   "outputs": [],
   "source": [
    "# tạo khung dữ liệu \n",
    "race_results_df.createTempView('v_race_results')"
   ]
  },
  {
   "cell_type": "code",
   "execution_count": 5,
   "id": "511cd059",
   "metadata": {},
   "outputs": [],
   "source": [
    "# thêm tham số để dễ dàng thay đổi giá trị race_year\n",
    "p_race_year =2020"
   ]
  },
  {
   "cell_type": "code",
   "execution_count": 6,
   "id": "26fb9246",
   "metadata": {},
   "outputs": [
    {
     "name": "stdout",
     "output_type": "stream",
     "text": [
      "+--------+\n",
      "|count(1)|\n",
      "+--------+\n",
      "|     340|\n",
      "+--------+\n",
      "\n"
     ]
    }
   ],
   "source": [
    "test = spark.sql(f'SELECT COUNT(1) FROM v_race_results where race_year = {p_race_year}')\n",
    "test.show()"
   ]
  },
  {
   "cell_type": "code",
   "execution_count": 7,
   "id": "5f17a80a",
   "metadata": {},
   "outputs": [],
   "source": [
    "# spark.sql('CREATE DATABASE demo;')\n",
    "# spark.sql('CREATE DATABASE if NOT EXISTS demo;')"
   ]
  },
  {
   "cell_type": "code",
   "execution_count": 9,
   "id": "57f029d0",
   "metadata": {},
   "outputs": [
    {
     "name": "stdout",
     "output_type": "stream",
     "text": [
      "+---------+--------------------+-------------------+----------------+--------------------+-------------+------------------+-----------+----+----------+-----------+------+--------+--------------------+\n",
      "|race_year|           race_name|          race_date|circuit_location|         driver_name|driver_number|driver_nationality|       team|grid|fastestLap|  race_time|points|position|        created_date|\n",
      "+---------+--------------------+-------------------+----------------+--------------------+-------------+------------------+-----------+----+----------+-----------+------+--------+--------------------+\n",
      "|     2009|Australian Grand ...|2009-03-29 06:00:00|       Melbourne|      Lewis Hamilton|           44|           British|    McLaren|  18|        39|         \\N|   0.0|      \\N|2022-08-10 22:33:...|\n",
      "|     2009|Australian Grand ...|2009-03-29 06:00:00|       Melbourne|   Heikki Kovalainen|           \\N|           Finnish|    McLaren|  12|        \\N|         \\N|   0.0|      \\N|2022-08-10 22:33:...|\n",
      "|     2009|Australian Grand ...|2009-03-29 06:00:00|       Melbourne|     Kazuki Nakajima|           \\N|          Japanese|   Williams|  11|         6|         \\N|   0.0|      \\N|2022-08-10 22:33:...|\n",
      "|     2009|Australian Grand ...|2009-03-29 06:00:00|       Melbourne|   Nelson Piquet Jr.|           \\N|         Brazilian|    Renault|  14|        17|         \\N|   0.0|      \\N|2022-08-10 22:33:...|\n",
      "|     2009|Australian Grand ...|2009-03-29 06:00:00|       Melbourne|        Felipe Massa|           19|         Brazilian|    Ferrari|   6|        30|         \\N|   0.0|      \\N|2022-08-10 22:33:...|\n",
      "|     2009|Australian Grand ...|2009-03-29 06:00:00|       Melbourne|      Kimi Räikkönen|            7|           Finnish|    Ferrari|   7|        35|         \\N|   0.0|      15|2022-08-10 22:33:...|\n",
      "|     2009|Australian Grand ...|2009-03-29 06:00:00|       Melbourne|       Robert Kubica|           88|            Polish| BMW Sauber|   4|        36|         \\N|   0.0|      14|2022-08-10 22:33:...|\n",
      "|     2009|Australian Grand ...|2009-03-29 06:00:00|       Melbourne|    Sebastian Vettel|            5|            German|   Red Bull|   3|         8|         \\N|   0.0|      13|2022-08-10 22:33:...|\n",
      "|     2009|Australian Grand ...|2009-03-29 06:00:00|       Melbourne|         Mark Webber|           \\N|        Australian|   Red Bull|   8|        38|         \\N|   0.0|      12|2022-08-10 22:33:...|\n",
      "|     2009|Australian Grand ...|2009-03-29 06:00:00|       Melbourne|Giancarlo Fisichella|           \\N|           Italian|Force India|  15|        51|     +7.374|   0.0|      11|2022-08-10 22:33:...|\n",
      "|     2009|Australian Grand ...|2009-03-29 06:00:00|       Melbourne|       Nick Heidfeld|           \\N|            German| BMW Sauber|   9|        48|     +7.085|   0.0|      10|2022-08-10 22:33:...|\n",
      "|     2009|Australian Grand ...|2009-03-29 06:00:00|       Melbourne|        Adrian Sutil|           99|            German|Force India|  16|        43|     +6.335|   0.0|       9|2022-08-10 22:33:...|\n",
      "|     2009|Australian Grand ...|2009-03-29 06:00:00|       Melbourne|  Sébastien Bourdais|           \\N|            French| Toro Rosso|  17|        50|     +6.298|   1.0|       8|2022-08-10 22:33:...|\n",
      "|     2009|Australian Grand ...|2009-03-29 06:00:00|       Melbourne|     Sébastien Buemi|           \\N|             Swiss| Toro Rosso|  13|        34|     +6.004|   2.0|       7|2022-08-10 22:33:...|\n",
      "|     2009|Australian Grand ...|2009-03-29 06:00:00|       Melbourne|        Nico Rosberg|            6|            German|   Williams|   5|        48|     +5.722|   3.0|       6|2022-08-10 22:33:...|\n",
      "|     2009|Australian Grand ...|2009-03-29 06:00:00|       Melbourne|     Fernando Alonso|           14|           Spanish|    Renault|  10|        53|     +4.879|   4.0|       5|2022-08-10 22:33:...|\n",
      "|     2009|Australian Grand ...|2009-03-29 06:00:00|       Melbourne|          Timo Glock|           \\N|            German|     Toyota|  19|        53|     +4.435|   5.0|       4|2022-08-10 22:33:...|\n",
      "|     2009|Australian Grand ...|2009-03-29 06:00:00|       Melbourne|        Jarno Trulli|           \\N|           Italian|     Toyota|  20|        50|     +1.604|   6.0|       3|2022-08-10 22:33:...|\n",
      "|     2009|Australian Grand ...|2009-03-29 06:00:00|       Melbourne|  Rubens Barrichello|           \\N|         Brazilian|      Brawn|   2|        43|     +0.807|   8.0|       2|2022-08-10 22:33:...|\n",
      "|     2009|Australian Grand ...|2009-03-29 06:00:00|       Melbourne|       Jenson Button|           22|           British|      Brawn|   1|        17|1:34:15.784|  10.0|       1|2022-08-10 22:33:...|\n",
      "+---------+--------------------+-------------------+----------------+--------------------+-------------+------------------+-----------+----+----------+-----------+------+--------+--------------------+\n",
      "only showing top 20 rows\n",
      "\n"
     ]
    }
   ],
   "source": [
    "spark.sql('SELECT * \\\n",
    "    FROM v_race_results').show()"
   ]
  }
 ],
 "metadata": {
  "kernelspec": {
   "display_name": "Python 3.9.13 ('base')",
   "language": "python",
   "name": "python3"
  },
  "language_info": {
   "codemirror_mode": {
    "name": "ipython",
    "version": 3
   },
   "file_extension": ".py",
   "mimetype": "text/x-python",
   "name": "python",
   "nbconvert_exporter": "python",
   "pygments_lexer": "ipython3",
   "version": "3.9.13"
  },
  "vscode": {
   "interpreter": {
    "hash": "b5ddce8d2483ae4d4309bb15bbfc33949058ac938866cadf6f2d53466f7374a2"
   }
  }
 },
 "nbformat": 4,
 "nbformat_minor": 5
}

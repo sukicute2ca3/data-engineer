{
 "cells": [
  {
   "cell_type": "code",
   "execution_count": 1,
   "metadata": {},
   "outputs": [
    {
     "name": "stderr",
     "output_type": "stream",
     "text": [
      "Setting default log level to \"WARN\".\n",
      "To adjust logging level use sc.setLogLevel(newLevel). For SparkR, use setLogLevel(newLevel).\n"
     ]
    },
    {
     "name": "stdout",
     "output_type": "stream",
     "text": [
      "22/08/30 20:46:21 WARN NativeCodeLoader: Unable to load native-hadoop library for your platform... using builtin-java classes where applicable\n"
     ]
    }
   ],
   "source": [
    "from pyspark.sql import SparkSession\n",
    "from pyspark.sql.types import StructType, StructField, IntegerType, StringType, DateType\n",
    "from pyspark.sql.functions import current_timestamp, to_timestamp, concat, col, lit\n",
    "from pyspark.sql import functions as sf\n",
    "\n",
    "spark= SparkSession.builder.appName('Practise').getOrCreate()\n"
   ]
  },
  {
   "cell_type": "code",
   "execution_count": 2,
   "metadata": {},
   "outputs": [],
   "source": [
    "drivers_df = spark.read.csv('/Users/mac/Documents/dataengineer/f1db_csv/drivers.csv',header=True, inferSchema=True)\n",
    "# tạo cột bằng cách kết nối 2 cột\n",
    "drivers_df = drivers_df \\\n",
    ".withColumn('name',sf.concat(sf.col('forename'),sf.lit(' '), sf.col('surname')))\\\n",
    ".withColumnRenamed('number','driver_number')\\\n",
    ".withColumnRenamed('name','driver_name').withColumnRenamed('nationality','driver_nationality')\n"
   ]
  },
  {
   "cell_type": "code",
   "execution_count": 3,
   "metadata": {},
   "outputs": [],
   "source": [
    "constructors_df = spark.read.csv('/Users/mac/Documents/dataengineer/f1db_csv/constructors.csv',header= True,inferSchema=True)\\\n",
    "    .withColumnRenamed('name','team')\n"
   ]
  },
  {
   "cell_type": "code",
   "execution_count": 4,
   "metadata": {},
   "outputs": [],
   "source": [
    "spark = SparkSession.builder.appName(\"Practise\").getOrCreate()\n",
    "races_schema = StructType(fields=[StructField('raceId', IntegerType(), False),\n",
    "                                  StructField('year', IntegerType(), True),\n",
    "                                  StructField('round', IntegerType(), True),\n",
    "                                  StructField(\n",
    "                                      'circuitId', IntegerType(), True),\n",
    "                                  StructField('name', StringType(), True),\n",
    "                                  StructField('date', DateType(), True),\n",
    "                                  StructField('time', StringType(), True),\n",
    "                                  StructField('url', StringType(), True)\n",
    "                                  ])\n",
    "races_df = spark.read.option('header', True).schema(races_schema).csv(\n",
    "    '/Users/mac/Documents/dataengineer/f1db_csv/races.csv')\n",
    "races_df = races_df.withColumn(\n",
    "    'ingestion_date', current_timestamp()).withColumn('race_timestamp', to_timestamp(concat(col('date'), lit(' '), col('time')), 'yyyy-MM-dd HH:mm:ss'))\n",
    "races_df = races_df.select(col('raceId').alias('race_id'), col('year').alias('race_year'), col('round'), col('circuitId')\n",
    "                                                    .alias('circuit_id'),\n",
    "                                                    col('name'), col('ingestion_date'), col('race_timestamp'))\\\n",
    "                                                    .withColumnRenamed('race_timestamp','race_date').withColumnRenamed('name','race_name')\n",
    "                                                    "
   ]
  },
  {
   "cell_type": "code",
   "execution_count": 5,
   "metadata": {},
   "outputs": [],
   "source": [
    "circuits_df = spark.read.csv('/Users/mac/Documents/dataengineer/f1db_csv/circuits.csv',header= True ,inferSchema= True)\\\n",
    "    .withColumnRenamed('location','circuit_location')\n"
   ]
  },
  {
   "cell_type": "code",
   "execution_count": 6,
   "metadata": {},
   "outputs": [],
   "source": [
    "results_df = spark.read.csv('/Users/mac/Documents/dataengineer/f1db_csv/results.csv',header= True,inferSchema=True)\\\n",
    "    .withColumnRenamed('time','race_time')\n"
   ]
  },
  {
   "cell_type": "code",
   "execution_count": 7,
   "metadata": {},
   "outputs": [
    {
     "name": "stdout",
     "output_type": "stream",
     "text": [
      "+---------+--------------+--------------------+----------------+---------+--------+---------+---+--------------------+\n",
      "|circuitId|    circuitRef|                name|circuit_location|  country|     lat|      lng|alt|                 url|\n",
      "+---------+--------------+--------------------+----------------+---------+--------+---------+---+--------------------+\n",
      "|        1|   albert_park|Albert Park Grand...|       Melbourne|Australia|-37.8497|  144.968| 10|http://en.wikiped...|\n",
      "|        2|        sepang|Sepang Internatio...|    Kuala Lumpur| Malaysia| 2.76083|  101.738| 18|http://en.wikiped...|\n",
      "|        3|       bahrain|Bahrain Internati...|          Sakhir|  Bahrain| 26.0325|  50.5106|  7|http://en.wikiped...|\n",
      "|        4|     catalunya|Circuit de Barcel...|        Montmeló|    Spain|   41.57|  2.26111|109|http://en.wikiped...|\n",
      "|        5|      istanbul|       Istanbul Park|        Istanbul|   Turkey| 40.9517|   29.405|130|http://en.wikiped...|\n",
      "|        6|        monaco|   Circuit de Monaco|     Monte-Carlo|   Monaco| 43.7347|  7.42056|  7|http://en.wikiped...|\n",
      "|        7|    villeneuve|Circuit Gilles Vi...|        Montreal|   Canada|    45.5| -73.5228| 13|http://en.wikiped...|\n",
      "|        8|   magny_cours|Circuit de Nevers...|     Magny Cours|   France| 46.8642|  3.16361|228|http://en.wikiped...|\n",
      "|        9|   silverstone| Silverstone Circuit|     Silverstone|       UK| 52.0786| -1.01694|153|http://en.wikiped...|\n",
      "|       10|hockenheimring|      Hockenheimring|      Hockenheim|  Germany| 49.3278|  8.56583|103|http://en.wikiped...|\n",
      "|       11|   hungaroring|         Hungaroring|        Budapest|  Hungary| 47.5789|  19.2486|264|http://en.wikiped...|\n",
      "|       12|      valencia|Valencia Street C...|        Valencia|    Spain| 39.4589|-0.331667|  4|http://en.wikiped...|\n",
      "|       13|           spa|Circuit de Spa-Fr...|             Spa|  Belgium| 50.4372|  5.97139|401|http://en.wikiped...|\n",
      "|       14|         monza|Autodromo Naziona...|           Monza|    Italy| 45.6156|  9.28111|162|http://en.wikiped...|\n",
      "|       15|    marina_bay|Marina Bay Street...|      Marina Bay|Singapore|  1.2914|  103.864| 18|http://en.wikiped...|\n",
      "|       16|          fuji|       Fuji Speedway|           Oyama|    Japan| 35.3717|  138.927|583|http://en.wikiped...|\n",
      "|       17|      shanghai|Shanghai Internat...|        Shanghai|    China| 31.3389|   121.22|  5|http://en.wikiped...|\n",
      "|       18|    interlagos|Autódromo José Ca...|       São Paulo|   Brazil|-23.7036| -46.6997|785|http://en.wikiped...|\n",
      "|       19|  indianapolis|Indianapolis Moto...|    Indianapolis|      USA|  39.795| -86.2347|223|http://en.wikiped...|\n",
      "|       20|   nurburgring|         Nürburgring|         Nürburg|  Germany| 50.3356|   6.9475|578|http://en.wikiped...|\n",
      "+---------+--------------+--------------------+----------------+---------+--------+---------+---+--------------------+\n",
      "only showing top 20 rows\n",
      "\n"
     ]
    }
   ],
   "source": [
    "circuits_df.show()"
   ]
  },
  {
   "cell_type": "code",
   "execution_count": 8,
   "metadata": {},
   "outputs": [],
   "source": [
    "race_circuits_df = races_df.join(circuits_df,races_df.circuit_id == circuits_df.circuitId,'inner' )\\\n",
    "    .select(races_df.race_id,races_df.race_year,races_df.race_name,races_df.race_date,circuits_df.circuit_location)\n"
   ]
  },
  {
   "cell_type": "code",
   "execution_count": 9,
   "metadata": {},
   "outputs": [
    {
     "name": "stdout",
     "output_type": "stream",
     "text": [
      "+--------+------+--------+-------------+------+----+--------+------------+-------------+------+----+-----------+------------+----------+----+--------------+---------------+--------+\n",
      "|resultId|raceId|driverId|constructorId|number|grid|position|positionText|positionOrder|points|laps|  race_time|milliseconds|fastestLap|rank|fastestLapTime|fastestLapSpeed|statusId|\n",
      "+--------+------+--------+-------------+------+----+--------+------------+-------------+------+----+-----------+------------+----------+----+--------------+---------------+--------+\n",
      "|       1|    18|       1|            1|    22|   1|       1|           1|            1|  10.0|  58|1:34:50.616|     5690616|        39|   2|      1:27.452|        218.300|       1|\n",
      "|       2|    18|       2|            2|     3|   5|       2|           2|            2|   8.0|  58|     +5.478|     5696094|        41|   3|      1:27.739|        217.586|       1|\n",
      "|       3|    18|       3|            3|     7|   7|       3|           3|            3|   6.0|  58|     +8.163|     5698779|        41|   5|      1:28.090|        216.719|       1|\n",
      "|       4|    18|       4|            4|     5|  11|       4|           4|            4|   5.0|  58|    +17.181|     5707797|        58|   7|      1:28.603|        215.464|       1|\n",
      "|       5|    18|       5|            1|    23|   3|       5|           5|            5|   4.0|  58|    +18.014|     5708630|        43|   1|      1:27.418|        218.385|       1|\n",
      "|       6|    18|       6|            3|     8|  13|       6|           6|            6|   3.0|  57|         \\N|          \\N|        50|  14|      1:29.639|        212.974|      11|\n",
      "|       7|    18|       7|            5|    14|  17|       7|           7|            7|   2.0|  55|         \\N|          \\N|        22|  12|      1:29.534|        213.224|       5|\n",
      "|       8|    18|       8|            6|     1|  15|       8|           8|            8|   1.0|  53|         \\N|          \\N|        20|   4|      1:27.903|        217.180|       5|\n",
      "|       9|    18|       9|            2|     4|   2|      \\N|           R|            9|   0.0|  47|         \\N|          \\N|        15|   9|      1:28.753|        215.100|       4|\n",
      "|      10|    18|      10|            7|    12|  18|      \\N|           R|           10|   0.0|  43|         \\N|          \\N|        23|  13|      1:29.558|        213.166|       3|\n",
      "|      11|    18|      11|            8|    18|  19|      \\N|           R|           11|   0.0|  32|         \\N|          \\N|        24|  15|      1:30.892|        210.038|       7|\n",
      "|      12|    18|      12|            4|     6|  20|      \\N|           R|           12|   0.0|  30|         \\N|          \\N|        20|  16|      1:31.384|        208.907|       8|\n",
      "|      13|    18|      13|            6|     2|   4|      \\N|           R|           13|   0.0|  29|         \\N|          \\N|        23|   6|      1:28.175|        216.510|       5|\n",
      "|      14|    18|      14|            9|     9|   8|      \\N|           R|           14|   0.0|  25|         \\N|          \\N|        21|  11|      1:29.502|        213.300|       4|\n",
      "|      15|    18|      15|            7|    11|   6|      \\N|           R|           15|   0.0|  19|         \\N|          \\N|        18|  10|      1:29.310|        213.758|      10|\n",
      "|      16|    18|      16|           10|    20|  22|      \\N|           R|           16|   0.0|   8|         \\N|          \\N|         8|  17|      1:32.021|        207.461|       9|\n",
      "|      17|    18|      17|            9|    10|  14|      \\N|           R|           17|   0.0|   0|         \\N|          \\N|        \\N|  \\N|            \\N|             \\N|       4|\n",
      "|      18|    18|      18|           11|    16|  12|      \\N|           R|           18|   0.0|   0|         \\N|          \\N|        \\N|  \\N|            \\N|             \\N|       4|\n",
      "|      19|    18|      19|            8|    19|  21|      \\N|           R|           19|   0.0|   0|         \\N|          \\N|        \\N|  \\N|            \\N|             \\N|       4|\n",
      "|      20|    18|      20|            5|    15|   9|      \\N|           R|           20|   0.0|   0|         \\N|          \\N|        \\N|  \\N|            \\N|             \\N|       4|\n",
      "+--------+------+--------+-------------+------+----+--------+------------+-------------+------+----+-----------+------------+----------+----+--------------+---------------+--------+\n",
      "only showing top 20 rows\n",
      "\n"
     ]
    }
   ],
   "source": [
    "results_df.show()"
   ]
  },
  {
   "cell_type": "code",
   "execution_count": 10,
   "metadata": {},
   "outputs": [],
   "source": [
    "race_results_df = results_df.join(race_circuits_df,results_df.raceId == race_circuits_df.race_id,'inner')\\\n",
    "                            .join(drivers_df,results_df.driverId==drivers_df.driverId,'inner')\\\n",
    "                            .join(constructors_df,results_df.constructorId == constructors_df.constructorId,'inner')\n"
   ]
  },
  {
   "cell_type": "code",
   "execution_count": 11,
   "metadata": {},
   "outputs": [
    {
     "name": "stderr",
     "output_type": "stream",
     "text": [
      "                                                                                \r"
     ]
    },
    {
     "name": "stdout",
     "output_type": "stream",
     "text": [
      "+---------+--------------------+-------------------+----------------+------------------+-------------+------------------+------------+----+----------+-----------+------+--------+--------------------+\n",
      "|race_year|           race_name|          race_date|circuit_location|       driver_name|driver_number|driver_nationality|        team|grid|fastestLap|  race_time|points|position|        created_date|\n",
      "+---------+--------------------+-------------------+----------------+------------------+-------------+------------------+------------+----+----------+-----------+------+--------+--------------------+\n",
      "|     2020|Abu Dhabi Grand Prix|2020-12-13 13:10:00|       Abu Dhabi|    Max Verstappen|           33|             Dutch|    Red Bull|   1|        14|1:36:28.645|  25.0|       1|2022-08-30 20:46:...|\n",
      "|     2020|Abu Dhabi Grand Prix|2020-12-13 13:10:00|       Abu Dhabi|   Valtteri Bottas|           77|           Finnish|    Mercedes|   2|        40|    +15.976|  18.0|       2|2022-08-30 20:46:...|\n",
      "|     2020|Abu Dhabi Grand Prix|2020-12-13 13:10:00|       Abu Dhabi|    Lewis Hamilton|           44|           British|    Mercedes|   3|        37|    +18.415|  15.0|       3|2022-08-30 20:46:...|\n",
      "|     2020|Abu Dhabi Grand Prix|2020-12-13 13:10:00|       Abu Dhabi|   Alexander Albon|           23|              Thai|    Red Bull|   5|        42|    +19.987|  12.0|       4|2022-08-30 20:46:...|\n",
      "|     2020|Abu Dhabi Grand Prix|2020-12-13 13:10:00|       Abu Dhabi|      Lando Norris|            4|           British|     McLaren|   4|        53|  +1:00.729|  10.0|       5|2022-08-30 20:46:...|\n",
      "|     2020|Abu Dhabi Grand Prix|2020-12-13 13:10:00|       Abu Dhabi|      Carlos Sainz|           55|           Spanish|     McLaren|   6|        48|  +1:05.662|   8.0|       6|2022-08-30 20:46:...|\n",
      "|     2020|Abu Dhabi Grand Prix|2020-12-13 13:10:00|       Abu Dhabi|  Daniel Ricciardo|            3|        Australian|     Renault|  11|        55|  +1:13.748|   7.0|       7|2022-08-30 20:46:...|\n",
      "|     2020|Abu Dhabi Grand Prix|2020-12-13 13:10:00|       Abu Dhabi|      Pierre Gasly|           10|            French|  AlphaTauri|   9|        53|  +1:29.718|   4.0|       8|2022-08-30 20:46:...|\n",
      "|     2020|Abu Dhabi Grand Prix|2020-12-13 13:10:00|       Abu Dhabi|      Esteban Ocon|           31|            French|     Renault|  10|        47|  +1:41.069|   2.0|       9|2022-08-30 20:46:...|\n",
      "|     2020|Abu Dhabi Grand Prix|2020-12-13 13:10:00|       Abu Dhabi|      Lance Stroll|           18|          Canadian|Racing Point|   8|        41|  +1:42.738|   1.0|      10|2022-08-30 20:46:...|\n",
      "|     2020|Abu Dhabi Grand Prix|2020-12-13 13:10:00|       Abu Dhabi|      Sergio Pérez|           11|           Mexican|Racing Point|  19|         6|         \\N|   0.0|      \\N|2022-08-30 20:46:...|\n",
      "|     2020|Abu Dhabi Grand Prix|2020-12-13 13:10:00|       Abu Dhabi|    George Russell|           63|           British|    Williams|  16|        54|         \\N|   0.0|      15|2022-08-30 20:46:...|\n",
      "|     2020|Abu Dhabi Grand Prix|2020-12-13 13:10:00|       Abu Dhabi| Pietro Fittipaldi|           51|         Brazilian|Haas F1 Team|  17|        50|         \\N|   0.0|      19|2022-08-30 20:46:...|\n",
      "|     2020|Abu Dhabi Grand Prix|2020-12-13 13:10:00|       Abu Dhabi|  Sebastian Vettel|            5|            German|     Ferrari|  13|        37|         \\N|   0.0|      14|2022-08-30 20:46:...|\n",
      "|     2020|Abu Dhabi Grand Prix|2020-12-13 13:10:00|       Abu Dhabi|      Daniil Kvyat|           26|           Russian|  AlphaTauri|   7|        47|         \\N|   0.0|      11|2022-08-30 20:46:...|\n",
      "|     2020|Abu Dhabi Grand Prix|2020-12-13 13:10:00|       Abu Dhabi|   Kevin Magnussen|           20|            Danish|Haas F1 Team|  20|        50|         \\N|   0.0|      18|2022-08-30 20:46:...|\n",
      "|     2020|Abu Dhabi Grand Prix|2020-12-13 13:10:00|       Abu Dhabi|   Nicholas Latifi|            6|          Canadian|    Williams|  18|        49|         \\N|   0.0|      17|2022-08-30 20:46:...|\n",
      "|     2020|Abu Dhabi Grand Prix|2020-12-13 13:10:00|       Abu Dhabi|   Charles Leclerc|           16|        Monegasque|     Ferrari|  12|        24|         \\N|   0.0|      13|2022-08-30 20:46:...|\n",
      "|     2020|Abu Dhabi Grand Prix|2020-12-13 13:10:00|       Abu Dhabi|Antonio Giovinazzi|           99|           Italian|  Alfa Romeo|  14|        29|         \\N|   0.0|      16|2022-08-30 20:46:...|\n",
      "|     2020|Abu Dhabi Grand Prix|2020-12-13 13:10:00|       Abu Dhabi|    Kimi Räikkönen|            7|           Finnish|  Alfa Romeo|  15|        53|         \\N|   0.0|      12|2022-08-30 20:46:...|\n",
      "+---------+--------------------+-------------------+----------------+------------------+-------------+------------------+------------+----+----------+-----------+------+--------+--------------------+\n",
      "\n"
     ]
    },
    {
     "name": "stdout",
     "output_type": "stream",
     "text": [
      "22/08/30 22:12:45 WARN HeartbeatReceiver: Removing executor driver with no recent heartbeats: 1983324 ms exceeds timeout 120000 ms\n",
      "22/08/30 22:12:45 WARN SparkContext: Killing executors is not supported by current scheduler.\n"
     ]
    }
   ],
   "source": [
    "final_df = race_results_df.select('race_year','race_name','race_date','circuit_location','driver_name','driver_number','driver_nationality','team',\\\n",
    "    'grid','fastestLap','race_time','points','position').withColumn('created_date',current_timestamp())\n",
    "final_df = final_df.filter(\"race_year == 2020 and race_name == 'Abu Dhabi Grand Prix'\").orderBy(final_df.points.desc())\n",
    "# final_df.coalesce(1).write.csv(\"/Users/mac/Documents/dataengineer/f1db_csv/a\")\n",
    "# final_df.write.csv(\"/Users/mac/Documents/dataengineer/f1db_csv/abc.csv\")\n",
    "\n",
    "\n",
    "\n",
    "# lưu file sang đuôi parquet\n",
    "final_df.write.mode(\"append\").save( \"/Users/mac/Documents/dataengineer/f1db_csv/a\")\n",
    "\n",
    "\n",
    "final_df.show()"
   ]
  }
 ],
 "metadata": {
  "kernelspec": {
   "display_name": "Python 3.9.13 ('base')",
   "language": "python",
   "name": "python3"
  },
  "language_info": {
   "codemirror_mode": {
    "name": "ipython",
    "version": 3
   },
   "file_extension": ".py",
   "mimetype": "text/x-python",
   "name": "python",
   "nbconvert_exporter": "python",
   "pygments_lexer": "ipython3",
   "version": "3.9.13"
  },
  "orig_nbformat": 4,
  "vscode": {
   "interpreter": {
    "hash": "b5ddce8d2483ae4d4309bb15bbfc33949058ac938866cadf6f2d53466f7374a2"
   }
  }
 },
 "nbformat": 4,
 "nbformat_minor": 2
}
